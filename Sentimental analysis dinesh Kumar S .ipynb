{
 "cells": [
  {
   "cell_type": "code",
   "execution_count": 1,
   "id": "99212673",
   "metadata": {},
   "outputs": [],
   "source": [
    "import pandas as pd\n",
    "import numpy as np\n",
    "import nltk\n",
    "from nltk.corpus import stopwords\n",
    "from sklearn.model_selection import train_test_split\n",
    "from sklearn.feature_extraction.text import TfidfVectorizer\n",
    "from sklearn.preprocessing import LabelEncoder\n",
    "from tensorflow.keras.models import Sequential\n",
    "from tensorflow.keras.layers import Dense, Dropout\n",
    "from tensorflow.keras.utils import to_categorical\n",
    "from sklearn.metrics import accuracy_score, classification_report"
   ]
  },
  {
   "cell_type": "code",
   "execution_count": 2,
   "id": "56ce08b7",
   "metadata": {},
   "outputs": [
    {
     "name": "stderr",
     "output_type": "stream",
     "text": [
      "[nltk_data] Error loading stopwords: <urlopen error [Errno 8] nodename\n",
      "[nltk_data]     nor servname provided, or not known>\n"
     ]
    }
   ],
   "source": [
    "nltk.download('stopwords')\n",
    "stop_words = set(stopwords.words('english'))\n",
    "\n",
    "def load_dataset(file_path):\n",
    "    df = pd.read_csv(file_path, encoding='latin1')\n",
    "    return df"
   ]
  },
  {
   "cell_type": "code",
   "execution_count": 3,
   "id": "018e73ac",
   "metadata": {},
   "outputs": [],
   "source": [
    "def preprocess_data(df):\n",
    "    \n",
    "    df['text'] = df['text'].fillna('')\n",
    "    df['sentiment'] = df['sentiment'].fillna('neutral')      \n",
    "    df['sentiment'] = df['sentiment'].astype(str)    \n",
    "    df['text'] = df['text'].apply(lambda x: \" \".join([word for word in x.split() if word not in stop_words]))\n",
    "    return df\n"
   ]
  },
  {
   "cell_type": "code",
   "execution_count": 4,
   "id": "0194989a",
   "metadata": {},
   "outputs": [],
   "source": [
    "\n",
    "def train_model(X_train, y_train):\n",
    "    \n",
    "    vectorizer = TfidfVectorizer(max_features=5000)\n",
    "    X_train_vec = vectorizer.fit_transform(X_train).toarray()    \n",
    "    label_encoder = LabelEncoder()\n",
    "    y_train_encoded = label_encoder.fit_transform(y_train)\n",
    "    y_train_one_hot = to_categorical(y_train_encoded)\n",
    "    \n",
    "    model = Sequential()\n",
    "    model.add(Dense(512, input_dim=X_train_vec.shape[1], activation='relu'))\n",
    "    model.add(Dropout(0.5))\n",
    "    model.add(Dense(256, activation='relu'))\n",
    "    model.add(Dropout(0.5))\n",
    "    model.add(Dense(y_train_one_hot.shape[1], activation='softmax'))\n",
    "\n",
    "    model.compile(optimizer='adam', loss='categorical_crossentropy', metrics=['accuracy'])\n",
    "    model.fit(X_train_vec, y_train_one_hot, epochs=10, batch_size=32, validation_split=0.1, verbose=1)\n",
    "\n",
    "    return model, vectorizer, label_encoder"
   ]
  },
  {
   "cell_type": "code",
   "execution_count": 5,
   "id": "99437219",
   "metadata": {},
   "outputs": [],
   "source": [
    "def evaluate_model(model, vectorizer, label_encoder, X_test, y_test):\n",
    "    \n",
    "    X_test_vec = vectorizer.transform(X_test).toarray()\n",
    "    \n",
    "    y_test_encoded = label_encoder.transform(y_test)\n",
    "    y_test_one_hot = to_categorical(y_test_encoded)\n",
    "\n",
    "    \n",
    "    y_pred_prob = model.predict(X_test_vec)\n",
    "    y_pred = np.argmax(y_pred_prob, axis=1)\n",
    "\n",
    "    accuracy = accuracy_score(np.argmax(y_test_one_hot, axis=1), y_pred)\n",
    "    report = classification_report(np.argmax(y_test_one_hot, axis=1), y_pred, target_names=label_encoder.classes_)\n",
    "\n",
    "    return accuracy, report"
   ]
  },
  {
   "cell_type": "code",
   "execution_count": 6,
   "id": "c7d5df63",
   "metadata": {},
   "outputs": [],
   "source": [
    "def predict_sentiment(model, vectorizer, label_encoder, text):\n",
    "    \n",
    "    text = \" \".join([word for word in text.split() if word not in stop_words])    \n",
    "    text_vec = vectorizer.transform([text]).toarray()    \n",
    "    text_pred_prob = model.predict(text_vec)\n",
    "    text_pred = np.argmax(text_pred_prob, axis=1)\n",
    "    sentiment = label_encoder.inverse_transform(text_pred)\n",
    "\n",
    "    return sentiment[0]\n",
    "\n"
   ]
  },
  {
   "cell_type": "code",
   "execution_count": 7,
   "id": "bcb4d3a2",
   "metadata": {},
   "outputs": [
    {
     "name": "stderr",
     "output_type": "stream",
     "text": [
      "/Users/dinesh/anaconda3/lib/python3.11/site-packages/keras/src/layers/core/dense.py:88: UserWarning: Do not pass an `input_shape`/`input_dim` argument to a layer. When using Sequential models, prefer using an `Input(shape)` object as the first layer in the model instead.\n",
      "  super().__init__(activity_regularizer=activity_regularizer, **kwargs)\n"
     ]
    },
    {
     "name": "stdout",
     "output_type": "stream",
     "text": [
      "Epoch 1/10\n",
      "\u001b[1m773/773\u001b[0m \u001b[32m━━━━━━━━━━━━━━━━━━━━\u001b[0m\u001b[37m\u001b[0m \u001b[1m6s\u001b[0m 7ms/step - accuracy: 0.5522 - loss: 0.9124 - val_accuracy: 0.6995 - val_loss: 0.7211\n",
      "Epoch 2/10\n",
      "\u001b[1m773/773\u001b[0m \u001b[32m━━━━━━━━━━━━━━━━━━━━\u001b[0m\u001b[37m\u001b[0m \u001b[1m5s\u001b[0m 7ms/step - accuracy: 0.7688 - loss: 0.5765 - val_accuracy: 0.7043 - val_loss: 0.7122\n",
      "Epoch 3/10\n",
      "\u001b[1m773/773\u001b[0m \u001b[32m━━━━━━━━━━━━━━━━━━━━\u001b[0m\u001b[37m\u001b[0m \u001b[1m6s\u001b[0m 7ms/step - accuracy: 0.8374 - loss: 0.4383 - val_accuracy: 0.6937 - val_loss: 0.7973\n",
      "Epoch 4/10\n",
      "\u001b[1m773/773\u001b[0m \u001b[32m━━━━━━━━━━━━━━━━━━━━\u001b[0m\u001b[37m\u001b[0m \u001b[1m5s\u001b[0m 7ms/step - accuracy: 0.8963 - loss: 0.2925 - val_accuracy: 0.6846 - val_loss: 0.9255\n",
      "Epoch 5/10\n",
      "\u001b[1m773/773\u001b[0m \u001b[32m━━━━━━━━━━━━━━━━━━━━\u001b[0m\u001b[37m\u001b[0m \u001b[1m5s\u001b[0m 7ms/step - accuracy: 0.9429 - loss: 0.1752 - val_accuracy: 0.6752 - val_loss: 1.0700\n",
      "Epoch 6/10\n",
      "\u001b[1m773/773\u001b[0m \u001b[32m━━━━━━━━━━━━━━━━━━━━\u001b[0m\u001b[37m\u001b[0m \u001b[1m6s\u001b[0m 7ms/step - accuracy: 0.9639 - loss: 0.1128 - val_accuracy: 0.6766 - val_loss: 1.2119\n",
      "Epoch 7/10\n",
      "\u001b[1m773/773\u001b[0m \u001b[32m━━━━━━━━━━━━━━━━━━━━\u001b[0m\u001b[37m\u001b[0m \u001b[1m5s\u001b[0m 7ms/step - accuracy: 0.9725 - loss: 0.0837 - val_accuracy: 0.6737 - val_loss: 1.3428\n",
      "Epoch 8/10\n",
      "\u001b[1m773/773\u001b[0m \u001b[32m━━━━━━━━━━━━━━━━━━━━\u001b[0m\u001b[37m\u001b[0m \u001b[1m6s\u001b[0m 7ms/step - accuracy: 0.9787 - loss: 0.0670 - val_accuracy: 0.6766 - val_loss: 1.3976\n",
      "Epoch 9/10\n",
      "\u001b[1m773/773\u001b[0m \u001b[32m━━━━━━━━━━━━━━━━━━━━\u001b[0m\u001b[37m\u001b[0m \u001b[1m6s\u001b[0m 7ms/step - accuracy: 0.9819 - loss: 0.0561 - val_accuracy: 0.6752 - val_loss: 1.5403\n",
      "Epoch 10/10\n",
      "\u001b[1m773/773\u001b[0m \u001b[32m━━━━━━━━━━━━━━━━━━━━\u001b[0m\u001b[37m\u001b[0m \u001b[1m6s\u001b[0m 7ms/step - accuracy: 0.9823 - loss: 0.0514 - val_accuracy: 0.6872 - val_loss: 1.5787\n",
      "\u001b[1m151/151\u001b[0m \u001b[32m━━━━━━━━━━━━━━━━━━━━\u001b[0m\u001b[37m\u001b[0m \u001b[1m0s\u001b[0m 1ms/step\n",
      "Accuracy: 0.7574247144340602\n",
      "Classification Report:\n",
      "              precision    recall  f1-score   support\n",
      "\n",
      "    negative       0.66      0.65      0.65      1001\n",
      "     neutral       0.79      0.83      0.81      2711\n",
      "    positive       0.77      0.68      0.72      1103\n",
      "\n",
      "    accuracy                           0.76      4815\n",
      "   macro avg       0.74      0.72      0.73      4815\n",
      "weighted avg       0.76      0.76      0.76      4815\n",
      "\n",
      "Enter a sentence to analyze sentiment (or type 'exit' to quit): hello\n",
      "\u001b[1m1/1\u001b[0m \u001b[32m━━━━━━━━━━━━━━━━━━━━\u001b[0m\u001b[37m\u001b[0m \u001b[1m0s\u001b[0m 14ms/step\n",
      "The sentiment of the sentence is: neutral\n",
      "Enter a sentence to analyze sentiment (or type 'exit' to quit): nice\n",
      "\u001b[1m1/1\u001b[0m \u001b[32m━━━━━━━━━━━━━━━━━━━━\u001b[0m\u001b[37m\u001b[0m \u001b[1m0s\u001b[0m 13ms/step\n",
      "The sentiment of the sentence is: positive\n",
      "Enter a sentence to analyze sentiment (or type 'exit' to quit): my phone was broken\n",
      "\u001b[1m1/1\u001b[0m \u001b[32m━━━━━━━━━━━━━━━━━━━━\u001b[0m\u001b[37m\u001b[0m \u001b[1m0s\u001b[0m 13ms/step\n",
      "The sentiment of the sentence is: negative\n",
      "Enter a sentence to analyze sentiment (or type 'exit' to quit): how was my model\n",
      "\u001b[1m1/1\u001b[0m \u001b[32m━━━━━━━━━━━━━━━━━━━━\u001b[0m\u001b[37m\u001b[0m \u001b[1m0s\u001b[0m 14ms/step\n",
      "The sentiment of the sentence is: neutral\n",
      "Enter a sentence to analyze sentiment (or type 'exit' to quit): quit\n",
      "\u001b[1m1/1\u001b[0m \u001b[32m━━━━━━━━━━━━━━━━━━━━\u001b[0m\u001b[37m\u001b[0m \u001b[1m0s\u001b[0m 13ms/step\n",
      "The sentiment of the sentence is: neutral\n",
      "Enter a sentence to analyze sentiment (or type 'exit' to quit): exit\n"
     ]
    }
   ],
   "source": [
    "def main(train_file_path, test_file_path):\n",
    "    \n",
    "    train_df = load_dataset(train_file_path)\n",
    "    test_df = load_dataset(test_file_path)\n",
    "\n",
    "    train_df = preprocess_data(train_df)\n",
    "    test_df = preprocess_data(test_df)\n",
    "    \n",
    "    X_train = train_df['text']\n",
    "    y_train = train_df['sentiment']\n",
    "    X_test = test_df['text']\n",
    "    y_test = test_df['sentiment']\n",
    "\n",
    "    \n",
    "    model, vectorizer, label_encoder = train_model(X_train, y_train)\n",
    "\n",
    "    \n",
    "    accuracy, report = evaluate_model(model, vectorizer, label_encoder, X_test, y_test)\n",
    "\n",
    "    print(f\"Accuracy: {accuracy}\")\n",
    "    print(f\"Classification Report:\\n{report}\")\n",
    "    \n",
    "    while True:\n",
    "        user_input = input(\"Enter a sentence to analyze sentiment (or type 'exit' to quit): \")\n",
    "        if user_input.lower() == 'exit':\n",
    "            break\n",
    "        sentiment = predict_sentiment(model, vectorizer, label_encoder, user_input)\n",
    "        print(f\"The sentiment of the sentence is: {sentiment}\")\n",
    "main(\"trainsentiment.csv\", \"testsentiment.csv\")"
   ]
  },
  {
   "cell_type": "code",
   "execution_count": null,
   "id": "85471446",
   "metadata": {},
   "outputs": [],
   "source": []
  },
  {
   "cell_type": "code",
   "execution_count": null,
   "id": "d2e632a2",
   "metadata": {},
   "outputs": [],
   "source": []
  }
 ],
 "metadata": {
  "kernelspec": {
   "display_name": "Python 3 (ipykernel)",
   "language": "python",
   "name": "python3"
  },
  "language_info": {
   "codemirror_mode": {
    "name": "ipython",
    "version": 3
   },
   "file_extension": ".py",
   "mimetype": "text/x-python",
   "name": "python",
   "nbconvert_exporter": "python",
   "pygments_lexer": "ipython3",
   "version": "3.11.5"
  }
 },
 "nbformat": 4,
 "nbformat_minor": 5
}
